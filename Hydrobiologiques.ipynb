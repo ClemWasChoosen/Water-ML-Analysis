{
 "cells": [
  {
   "cell_type": "markdown",
   "id": "8ad92c61-afb8-4864-9d15-0fb00a0bc98a",
   "metadata": {
    "jp-MarkdownHeadingCollapsed": true
   },
   "source": [
    "## Dependances et import des librairies "
   ]
  },
  {
   "cell_type": "code",
   "execution_count": null,
   "id": "f8188f42-5211-4e28-ae11-9c5b183d251b",
   "metadata": {},
   "outputs": [],
   "source": [
    "import sys\n",
    "print(sys.executable)\n",
    "import plotly.io as pio\n",
    "pio.renderers\n",
    "!jupyter labextension list --verbose\n",
    "#!pip install --upgrade jupyterlab-plotly\n",
    "#!pip install \"plotly>=5\" \"ipywidgets>=7.6\""
   ]
  },
  {
   "cell_type": "code",
   "execution_count": null,
   "id": "2b4dc6ea-6434-4276-9c46-11a3b2eeb6aa",
   "metadata": {
    "scrolled": true
   },
   "outputs": [],
   "source": [
    "!pip install --upgrade pip\n",
    "!pip install pandas\n",
    "#!pip install zstandard\n",
    "!pip install geopandas\n",
    "!pip install seaborn\n",
    "!pip install plotly\n",
    "!pip install zstandard\n",
    "!pip install nbformat\n",
    "!pip install -U kaleido\n",
    "!pip install scikit-learn"
   ]
  },
  {
   "cell_type": "code",
   "execution_count": null,
   "id": "dd0939ea-cf5f-481a-a4df-f4ce197565a1",
   "metadata": {},
   "outputs": [],
   "source": [
    "import pandas as pd\n",
    "import geopandas as gpd\n",
    "import shapely.geometry as geom\n",
    "import os\n",
    "import matplotlib.pyplot as plt\n",
    "import seaborn as sns\n",
    "from shapely.geometry import Point\n",
    "import plotly.express as px\n",
    "from sklearn.cluster import KMeans\n",
    "import plotly.graph_objects as go\n",
    "pd.set_option('display.max_columns', None)"
   ]
  },
  {
   "cell_type": "markdown",
   "id": "f8e74e9f-e598-44a4-b991-c4661efbb05c",
   "metadata": {
    "jp-MarkdownHeadingCollapsed": true
   },
   "source": [
    "## Charger les donnees"
   ]
  },
  {
   "cell_type": "code",
   "execution_count": null,
   "id": "94b18bf1-4048-45de-8ed1-6f9c552a5858",
   "metadata": {},
   "outputs": [],
   "source": [
    "df_stations = pd.read_csv(\"donnees/stations_hb.csv.zst\",sep=';',escapechar = '\\\\')"
   ]
  },
  {
   "cell_type": "code",
   "execution_count": null,
   "id": "ade7e55a-4437-4113-bd3a-f054a24c730d",
   "metadata": {},
   "outputs": [],
   "source": [
    "f=\"donnees/donnees_physicochimie.csv.zst\"\n",
    "pc_sample = pd.read_csv(f,nrows=1)\n",
    "pc_list_cols = pc_sample.columns\n",
    "pc_list_cat = pc_list_cols[pc_list_cols.str.startswith((\n",
    "    'Lb','Nom','Mnemo',\n",
    "    'Cd','Sym','Com'))]\n",
    "\n",
    "pc_dict_cat = {col: 'category' for col in pc_list_cat}\n",
    "\n",
    "df_pc = pd.read_csv(\n",
    "        f,\n",
    "        sep=',',\n",
    "        engine='c',\n",
    "        escapechar='\\\\',\n",
    "        dtype=pc_dict_cat,\n",
    "        parse_dates=[7],\n",
    "        iterator=False)\n",
    "\n",
    "# df_hb = pd.read_csv(\"donnees/donnees_hydrobio.csv.zst\",sep=',',escapechar = '\\\\')\n"
   ]
  },
  {
   "cell_type": "code",
   "execution_count": null,
   "id": "330afda4-43f4-4472-a6dd-af67412a0f89",
   "metadata": {},
   "outputs": [],
   "source": [
    "df_hb = pd.read_csv(\"donnees/donnees_hydrobio.csv.zst\",sep=',',escapechar = '\\\\')"
   ]
  },
  {
   "cell_type": "markdown",
   "id": "55b92163-02d8-4787-b693-4139ccb8464e",
   "metadata": {
    "jp-MarkdownHeadingCollapsed": true
   },
   "source": [
    "## Nettoyer les donnees"
   ]
  },
  {
   "cell_type": "markdown",
   "id": "5706908a-dd1a-4773-9df4-febf818923c0",
   "metadata": {},
   "source": [
    "### Dataframe Hydrobiologique\n",
    "\n",
    "Pour cela nous allons commencer par nous demander quelles sont les valeurs qui ont des donnees manquantes et commencer a evincer en commencant par elles:"
   ]
  },
  {
   "cell_type": "code",
   "execution_count": null,
   "id": "a3297d7d-934a-4155-8225-d542c889262d",
   "metadata": {},
   "outputs": [],
   "source": [
    "def pourcentage_valeurs_manquantes(df, colonne):\n",
    "    \"\"\"\n",
    "    Calcule le pourcentage de valeurs manquantes dans une colonne spécifique d'un DataFrame.\n",
    "    \n",
    "    Parameters:\n",
    "    df (pandas.DataFrame): Le DataFrame à analyser\n",
    "    colonne (str): Le nom de la colonne à vérifier\n",
    "    \n",
    "    Returns:\n",
    "    float: Le pourcentage de valeurs manquantes dans la colonne\n",
    "    \"\"\"\n",
    "    if colonne not in df.columns:\n",
    "        raise ValueError(f\"La colonne '{colonne}' n'existe pas dans le DataFrame.\")\n",
    "    \n",
    "    total_valeurs = len(df)\n",
    "    valeurs_manquantes = df[colonne].isnull().sum()\n",
    "    \n",
    "    pourcentage = (valeurs_manquantes / total_valeurs) * 100\n",
    "    \n",
    "    return round(pourcentage, 2)"
   ]
  },
  {
   "cell_type": "code",
   "execution_count": null,
   "id": "a3354eb1-51d8-4a5c-900a-796250aa64d8",
   "metadata": {},
   "outputs": [],
   "source": [
    "df_with_null_values = df_hb.isnull().any().sort_values().reset_index()\n",
    "print(df_with_null_values)\n",
    "df_with_null_values = df_with_null_values.loc[df_with_null_values[0] == True]\n",
    "df_with_null_values.columns = ['Nom', 'Boolean']"
   ]
  },
  {
   "cell_type": "markdown",
   "id": "afd3805d-9803-40f7-a101-e025f28fd22c",
   "metadata": {},
   "source": [
    "#### Traitement des colonnes avec valeurs manquantes\n",
    "\n",
    "Ces donnees contiennent des valeurs manquantes:\n",
    "\n",
    "| Noms colonnes                      | Bool |\n",
    "|------------------------------------|------|\n",
    "| DtProdResultatBiologique           | True |\n",
    "| MnAccredRsIndiceResultatBiologique | True |\n",
    "| CdPointEauxSurf                    | True |\n",
    "| CdMethEval                         | True |\n",
    "| NomProducteur                      | True |\n",
    "| CdAccredRsIndiceResultatBiologique | True |\n",
    "| ResIndiceResultatBiologique        | True |\n",
    "\n",
    "Avant tout, regardons le pourcentage de donnees manquantes pour comprendre l'impact de ces dernieres."
   ]
  },
  {
   "cell_type": "code",
   "execution_count": null,
   "id": "7c6d6cb2-e14a-4e84-bc15-c9cdabc4aac2",
   "metadata": {},
   "outputs": [],
   "source": [
    "resultats = []\n",
    "\n",
    "for colonne in df_with_null_values['Nom']:\n",
    "    if colonne in df_hb.columns:\n",
    "        pourcentage = pourcentage_valeurs_manquantes(df_hb, colonne)\n",
    "        resultats.append({'Colonne': colonne, 'Pourcentage': pourcentage})\n",
    "\n",
    "df_resultats = pd.DataFrame(resultats)\n",
    "df_resultats = df_resultats.sort_values('Pourcentage', ascending=False)\n",
    "\n",
    "fig = px.bar(df_resultats, \n",
    "             x='Colonne', \n",
    "             y='Pourcentage',\n",
    "             title='Pourcentage de valeurs manquantes par colonne',\n",
    "             labels={'Colonne': 'Nom de la colonne', 'Pourcentage': 'Pourcentage de valeurs manquantes'},\n",
    "             text='Pourcentage')\n",
    "\n",
    "fig.update_traces(texttemplate='%{text:.2f}%', textposition='outside')\n",
    "fig.update_layout(xaxis_tickangle=-45,\n",
    "                  yaxis_range=[0, 100],  # Le pourcentage c'est entre 0 et 100\n",
    "                  yaxis_title='Pourcentage de valeurs manquantes (%)',\n",
    "                  height=600, \n",
    "                  margin=dict(b=100))\n",
    "\n",
    "fig.show(renderer='browser')\n",
    "#print(df_resultats)"
   ]
  },
  {
   "cell_type": "markdown",
   "id": "181a23b2-c715-4291-aa8b-e4fc2ef0dd35",
   "metadata": {},
   "source": [
    "- <ins>DtProdResultatBiologique</ins>: Indication du jour, du mois et de l'année à laquelle le résultat biologique est calculé. **Ce parametre n'a pas d'utilite comme nous utilisons la date de debut des operations biologiques comme referentiel date. Avec plus de 60% de valeurs nulles, elle n'est de toute facon pas exploitable.**\n",
    "- <ins>MnAccredRsIndiceResultatBiologique</ins> et <ins>CdAccredRsIndiceResultatBiologique</ins>: Information permettant d’indiquer si une analyse a été réalisée dans les conditions d’accréditation. Les valeurs prisent par ce parametre = Inconnu', nan, 'Analyse réalisée sous accréditation', 'Analyse réalisée hors accréditation'.\n",
    "\n",
    "[//]: # (Tableau des valeurs d'acreditation)\n",
    "\n",
    "| Code de l'élément | Mnémonique de l'élément | Libellé de l'élément                | Statut de l'élément | Définition de l'élément                                                                                                                                                                                                                                                                                     |\n",
    "|-------------------|-------------------------|-------------------------------------|---------------------|-------------------------------------------------------------------------------------------------------------------------------------------------------------------------------------------------------------------------------------------------------------------------------------------------------------|\n",
    "| 1                 | ACCREDITE               | Analyse réalisée sous accréditation | Validé              | Analyse réalisée par un laboratoire officiellement accrédité pour cette tâche par le Comité Français d'Accréditation (COFRAC) ou un autre organisme d’accréditation similaire, en respectant notamment les spécifications de la norme ISO 17025. L’analyse est fournie sous logo de l’organisme accréditeur |\n",
    "| 2                 | NON ACCREDITE           | Analyse réalisée hors accréditation | Validé              | Analyse réalisée par un intervenant n'étant pas accrédité pour le paramètre considéré ou analyse réalisée par un intervenant accrédité mais considérant que les conditions de réalisation de l’analyse ne permettent pas la fourniture du résultat sous logo de l’organisme accréditeur.                    |\n",
    "| 0                 | INCONNU                 | Inconnu                             | Validé              | Analyse réalisée dans des conditions d'accréditation inconnues                                                                                                                                                                                                                                              |\n",
    "\n",
    "\n",
    "[Accréditation de l'analyse nomenclature 299 (Source du tableau)](https://mdm.sandre.eaufrance.fr/node/297378)\n",
    "\n",
    "**Dans le cadre de notre analyse, nous allons choisir toutes les lignes, qu'elles soient accredite ou non. Pour ne pas reduire le dataset a une quantite trop limitee de donnees (8428). Cependant, c'est un point a prendre en compte pour des analyses plus justes.**\n",
    "\n",
    "- <ins>CdPointEauxSurf</ins>: Le point de prélèvement est un sous-espace caractéristique et représentatif pour l'objet qui lui a été défini de la station, qui est clairement identifié et localisé afin d'y effectuer de façon répétitive des mesures pour une connaissance approfondie du milieu à l'endroit de la station. **Valeurs n'ayant aucun impact sur les analyses. Permet d'aider a la reproduction des prelevement pour l'organisme qui le realise.**\n",
    "- <ins>CdMethEval</ins>: ???? A verifier\n",
    "- <ins>NomProducteur</ins>: Nom de l’intervenant producteur de l’opération de prélèvement biologique. **Ne permet pas d'aider pour le choix l'analyse.**\n",
    "- <ins>ResIndiceResultatBiologique</ins>: **Importance majeure car contient les resultats qui servent pour l'analyse. On supprime les 13 lignes avec les valeurs nan.**\n",
    "\n",
    "Traitement des donnees:"
   ]
  },
  {
   "cell_type": "code",
   "execution_count": null,
   "id": "4067e55a-116f-496b-8316-58ceae0fa4de",
   "metadata": {},
   "outputs": [],
   "source": [
    "df_hb['MnAccredRsIndiceResultatBiologique'].unique()\n",
    "pourcentage_valeurs_manquantes(df_hb, 'MnAccredRsIndiceResultatBiologique')\n",
    "#df_hb['ResIndiceResultatBiologique'].unique()\n",
    "df_hb['ResIndiceResultatBiologique'].isnull().sum()"
   ]
  },
  {
   "cell_type": "markdown",
   "id": "cf8e4dcc-0dbc-4d46-9334-7c7ace115cb2",
   "metadata": {},
   "source": [
    "#### Selection des colonnes avec valeurs non manquantes\n",
    "\n",
    "| Nom |                       Boolean |       |\n",
    "|----:|------------------------------:|-------|\n",
    "|   0 |                    Unnamed: 0 | False |\n",
    "|   1 |    CdStationMesureEauxSurface | False |\n",
    "|   2 |    LbStationMesureEauxSurface | False |\n",
    "|   3 |     DateDebutOperationPrelBio | False |\n",
    "|   4 |                     CdSupport | False |\n",
    "|   5 |                     LbSupport | False |\n",
    "|   6 |                  CdProducteur | False |\n",
    "|   7 | CdParametreResultatBiologique | False |\n",
    "|   8 |               LbLongParametre | False |\n",
    "|   9 |           RefOperationPrelBio | False |\n",
    "|  10 |                 CdUniteMesure | False |\n",
    "|  11 |                SymUniteMesure | False |\n",
    "|  12 |  CdRqIndiceResultatBiologique | False |\n",
    "|  13 |                    MnemoRqAna | False |\n",
    "\n",
    "- <ins>CdStationMesureEauxSurface</ins>: Permet de lier les donnees avec une station. **Obligatoire**\n",
    "- <ins>LbStationMesureEauxSurface</ins>: Valeurs qu'on peut retrouver dans la station. **Il n'est donc pas pertinent.**\n",
    "- <ins>DateDebutOperationPrelBio</ins>: Utilise pour dater les prelevements. **Il est donc necessaire.**\n",
    "- <ins>CdSupport</ins>: Un support désigne un COMPOSANT DU MILIEU SUR LEQUEL PORTE L’INVESTIGATION, faisant généralement l'objet de prélèvements en vue d'analyses ultérieures, afin d’évaluer sa qualité et celle du milieu. **Necessaire pour l'analyse**\n",
    "- <ins>CdParametreResultatBiologique</ins>: Ne contient que la valeur **7613**. N'apporte aucune information. **Inutile de garder cette colonne**\n",
    "- <ins>LbLongParametre</ins>: Nom du parametre teste. Contient qu'une valeur unique \"Indice Invertébrés Multimétrique (I2M2)\". **N'apporte pas d'information on peut supprimer la colonne**\n",
    "- <ins>RefOperationPrelBio</ins>: Valeur unique correspondant a un identifiant pour chaque Operation de prelevement. **A garder**\n",
    "- <ins>CdUniteMesure</ins>: ???? A verifier\n",
    "- <ins>SymUniteMesure</ins>: ???? A verifier avec CdUniteMesure\n",
    "- <ins>CdRqIndiceResultatBiologique</ins>: Resultat attendu. Seulement, 13 valeurs ne sont pas utilisables (Code = 0, cf tableau). Il faut les supprimer. **A garder**\n",
    "\n",
    "  \n",
    "| Code | Mnémonique          | Libellé                                                                        |\n",
    "|------|---------------------|--------------------------------------------------------------------------------|\n",
    "| 0    | Analyse non faite   | Analyse non faite                                                              |\n",
    "| 1    | Domaine de validité | Résultat > seuil de quantification et < au seuil de saturation ou Résultat = 0 |\n",
    "\n",
    "\n",
    "- <ins>MnemoRqAna</ins>: Comme la colonne au dessus."
   ]
  },
  {
   "cell_type": "code",
   "execution_count": null,
   "id": "edb60d54-b41f-4a95-addc-12f280d4da2b",
   "metadata": {},
   "outputs": [],
   "source": [
    "#df_hb['CdRqIndiceResultatBiologique'].unique()\n",
    "#pourcentage_valeurs_manquantes(df_hb, 'CdPointEauxSurf')\n",
    "#df_hb.loc[df_hb['CdRqIndiceResultatBiologique'] == 0].shape\n",
    "#df_hb.loc[df_hb['MnAccredRsIndiceResultatBiologique'] == 'Analyse réalisée sous accréditation'].count()\n",
    "\n",
    "### Suppression des colonnes inutiles:\n",
    "df_hb = df_hb.drop(columns=['DtProdResultatBiologique', \n",
    "                            'CdPointEauxSurf', \n",
    "                            'NomProducteur', \n",
    "                            'LbStationMesureEauxSurface', \n",
    "                            'CdParametreResultatBiologique', \n",
    "                            'LbLongParametre'])\n",
    "\n",
    "df_hb = df_hb.dropna(subset='ResIndiceResultatBiologique')\n"
   ]
  },
  {
   "cell_type": "code",
   "execution_count": null,
   "id": "491eb68e-2a29-486b-99ed-47f1ce4218f0",
   "metadata": {},
   "outputs": [],
   "source": [
    "# Suppression des stations qui n'ont pas de valeurs physicochimiques. Issu du notebook sur les donnees physicochimiques\n",
    "df_hb_vides = pd.read_csv('donnees/stations_vides.csv')\n",
    "df_hb_vides"
   ]
  },
  {
   "cell_type": "code",
   "execution_count": null,
   "id": "15333b29-c46a-4d49-a078-506ac9534019",
   "metadata": {},
   "outputs": [],
   "source": [
    "# Conversion temporaire en chaînes pour effectuer la comparaison\n",
    "hb_vides_temp = df_hb_vides['CdStationMesureEauxSurface'].astype(str)\n",
    "hb_temp = df_hb['CdStationMesureEauxSurface'].astype(str)\n",
    "\n",
    "print(f\"Nombre de lignes avant filtration : {len(df_hb)}\")\n",
    "\n",
    "# Filtrage : exclure les valeurs de stations_vides_temp\n",
    "df_hb = df_hb[~hb_temp.isin(hb_vides_temp)]\n",
    "\n",
    "# Vérification du résultat\n",
    "print(f\"Nombre de lignes après filtration : {len(df_hb)}\")"
   ]
  },
  {
   "cell_type": "code",
   "execution_count": null,
   "id": "6843105e-93a4-424b-a95c-c9757f1503c6",
   "metadata": {},
   "outputs": [],
   "source": [
    "df_hb.shape"
   ]
  },
  {
   "cell_type": "markdown",
   "id": "de8582f2-b225-4054-93db-168935bff3b0",
   "metadata": {},
   "source": [
    "### Dataframe Stations"
   ]
  },
  {
   "cell_type": "code",
   "execution_count": null,
   "id": "fd56c06a-64e9-4d03-af76-04b73ec8eb6e",
   "metadata": {},
   "outputs": [],
   "source": [
    "df_with_null_values = df_stations.isnull().any().sort_values().reset_index()\n",
    "print(df_with_null_values)\n",
    "df_with_null_values = df_with_null_values.loc[df_with_null_values[0] == True]\n",
    "df_with_null_values.columns = ['Nom', 'Boolean']"
   ]
  },
  {
   "cell_type": "markdown",
   "id": "cfc202b1-8a61-41a7-b03f-d4968ec92de1",
   "metadata": {},
   "source": [
    "Commencons pas les colonnes qui ont des valeurs manquantes:"
   ]
  },
  {
   "cell_type": "code",
   "execution_count": null,
   "id": "ce5332fc-cc99-461e-b41d-79b7f84ca106",
   "metadata": {},
   "outputs": [],
   "source": [
    "resultats = []\n",
    "\n",
    "for colonne in df_with_null_values['Nom']:\n",
    "    if colonne in df_stations.columns:\n",
    "        pourcentage = pourcentage_valeurs_manquantes(df_stations, colonne)\n",
    "        resultats.append({'Colonne': colonne, 'Pourcentage': pourcentage})\n",
    "\n",
    "df_resultats = pd.DataFrame(resultats)\n",
    "df_resultats = df_resultats.sort_values('Pourcentage', ascending=False)\n",
    "\n",
    "fig = px.bar(df_resultats, \n",
    "             x='Colonne', \n",
    "             y='Pourcentage',\n",
    "             title='Pourcentage de valeurs manquantes par colonne',\n",
    "             labels={'Colonne': 'Nom de la colonne', 'Pourcentage': 'Pourcentage de valeurs manquantes'},\n",
    "             text='Pourcentage')\n",
    "\n",
    "fig.update_traces(texttemplate='%{text:.2f}%', textposition='outside')\n",
    "fig.update_layout(xaxis_tickangle=-45,\n",
    "                  yaxis_range=[0, 100],  # Le pourcentage c'est entre 0 et 100\n",
    "                  yaxis_title='Pourcentage de valeurs manquantes (%)',\n",
    "                  height=600, \n",
    "                  margin=dict(b=100))\n",
    "\n",
    "fig.show()\n",
    "#print(df_resultats)"
   ]
  },
  {
   "cell_type": "code",
   "execution_count": null,
   "id": "c4281dfc-c606-4b6f-b48e-8cffaa8bfa06",
   "metadata": {},
   "outputs": [],
   "source": [
    "#df_stations['PremierMoisAnneeEtiage'].unique()\n",
    "#df_stations['PremierMoisAnneeEtiage'].loc[df_stations['PremierMoisAnneeEtiage'] == 6].count()\n",
    "#df_stations = df_stations[df_stations['PremierMoisAnneeEtiage'].isnull()]\n",
    "df_stations['CodeDepartement'].unique()"
   ]
  },
  {
   "cell_type": "markdown",
   "id": "2d32baf1-7ff2-42a6-b210-674e6f8f1cce",
   "metadata": {},
   "source": [
    "- <ins>SuperficieBassinVersantReel</ins>: Cette colonne contient uniquement des valeurs nulles. **A supprimer**\n",
    "- <ins>PremierMoisAnneeEtiage</ins>:  Le premier mois de l'année d'étiage est le numéro dans l'année civile du premier mois de la période utilisée pour les études statistiques sur les basses eaux. Dans le cas de notre etude nous n'allons pas nous servir de ce parametre pour le moment. **Nous allons simplement supprimer les valeurs non nulles, c'est a dire les lignes qui ont un premier mois different de 12.**\n",
    "- <ins>SuperficieBassinVersantTopo</ins>: Seulement 259 valeurs sont non nulles. La colonne apporte trop peu d'information pour pouvoir etre utilisable. **A supprimer**\n",
    "- <ins>ComStationMesureEauxSurface</ins>: Valeurs textes trop fluctuant pour etre analyse. **A supprimer**\n",
    "- <ins>FinaliteStationMesureEauxSurface</ins>: La finalité de la station constitue le but pour lequel la station de mesure a été créée. Risque de n'avoir aucune importance pour l'analyse mais certaines valeurs comme \"Impact d'un rejet domestique\" ou \"Impact d'un rejet d'élevage\" peuvent aider a orienter si certaines stations sont affectees ou non. **Comme elle contient de nombreuses lignes inutiles nous allons la supprimer pour le moment mais elle peut servir plus tard dans l'analyse.**\n",
    "- <ins>FinaliteStationMesureEauxSurface</ins>: La date d'arrêt d'activité de la station de mesure est la date à laquelle cessent les opérations de prélèvement sur la station de mesure qui ne remplit plus ses fonctions à cause d'événements intervenus sur le réseau hydrographique ; ou bien la date à laquelle le ou les organismes producteurs de données sur la station cessent d'effectuer des prélèvements pour diverses raisons : financières ou autre. **???? A verifier est ce que les donnees de ces stations ne sont de toutes facon pas dans les autres dataset pour les annees que l'on a besoin**\n",
    "- <ins>DurStationMesureEauxSurface</ins>: Dureté moyenne estimée à dire d'expert à partir de l'ensemble des analyses d'eau connues sur la ou les stations de mesure située(s) sur le tronçon hydrographique. Peut avoir une utilite pour l'analyse de la durete de l'eau sur les valeurs presentes. Cela represente 1296 valeurs. N'a pas d'importance pour l'analyse suivante, mais peutetre plus tard. **A supprimer pour le moment**\n",
    "- <ins>PkPointTronconEntiteHydroPrincipale</ins>:  La localisation de la station sur le tronçon hydrographique est obtenue à partir du point kilométrique (pk) qui est l'abscisse curviligne de la station le long d'une entité hydrographique par rapport à l'embouchure, mesurée sur la base de sa géométrie dans la BD Carthage et exprimée en kilomètres avec la précision du décamètre. **La mesure n'est pas utile pour l'analyse sachant qu'on a calcule les hydroecoregions.**\n",
    "- <ins>LibelleNatureStationMesureEauxSurface</ins> et <ins>CodeNatureStationMesureEauxSurface</ins>: Permet de savoir si c'est une mesure manuelle ou automatique. **Ne permet pas d'aider a l'analyse. A supprimer**\n",
    "- <ins>NomCoursdEau</ins>: Permet de donner le nom du cours d'eau de la station. 20% des lignes n'ont pas de noms. Cette colonne n'est pas utile pour l'analyse mais peut aider a la facilite d'interpretation sur la localisation de la station. **A supprimer sachant qu'elle n'a pas d'importance pour l'analyse, elle peut servir plus tard si besoin pour les visualisations.**.\n",
    "- <ins>CdTronconHydrographique</ins>:  le tronçon hydrographique est une entité ou partie d'entité située intégralement à l'intérieur d'une zone hydrographique. Fournit une indication plus precise sur la localisation. **N'est pas pertienent pour l'analyse vu qu'on se sert uniquement des Hydroecoregions**\n",
    "- <ins>CdCoursdEau</ins>: Le code générique est l'identifiant de l'entité hydrographique. Apport une information sur la localisation du cours d'eau sur lequel est present la station. **Comme le parametre precedent, n'apporte pas d'information pour les analyses, sauf si on veut comparer les parametres des stations par cours d'eau, ce qui n'est pas le cas pour le moment**\n",
    "- <ins>CdBassinDCE</ins>, <ins>NomEuBassinDCE</ins>, <ins>CdEuSsBassinDCEAdmin</ins> et <ins>CdEuBassinDCE</ins>: Un bassin DCE correspond:\n",
    "    - soit à un district hydrographique national (exemple: Les cours d'eau de la Corse) ;\n",
    "    - soit à une portion d'un district hydrographique international située sur le territoire d'un état membre (exemples: la Meuse; la Sambre).\n",
    "  **Les donnees qui donnent des informations sur une localisation autre que l'hydroecoregion n'a pas d'utilite pour notre analyse**\n",
    "- <ins>NomMasseDEau</ins>, <ins>CdMasseDEau</ins> et <ins>CdEuMasseDEau</ins>: Donne une indication sur la masse d'eau sur laquelle se trouve la station. **Les donnees qui donnent des informations sur une localisation autre que l'hydroecoregion n'a pas d'utilite pour notre analyse**.\n",
    "\n",
    "de meme pour toutes les autres donnees qui comportent une information sur la localisation. Pour le moment nous allons uniquement faire des analyses sur l'hydroecoregion: \n",
    "- <ins>LocPreciseStationMesureEauxSurface, LbRegion, CodeRegion, CodeCommune, LbCommune, LbDepartement, CodeDepartement</ins>"
   ]
  },
  {
   "cell_type": "code",
   "execution_count": null,
   "id": "6cc3d50b-e118-46c9-9bb2-1944578d9889",
   "metadata": {},
   "outputs": [],
   "source": [
    "df_stations = df_stations.drop(columns=['SuperficieBassinVersantReel',\n",
    "                                       'SuperficieBassinVersantTopo',\n",
    "                                       'ComStationMesureEauxSurface',\n",
    "                                       'FinaliteStationMesureEauxSurface',\n",
    "                                       'DurStationMesureEauxSurface',\n",
    "                                       'PkPointTronconEntiteHydroPrincipale',\n",
    "                                       'LibelleNatureStationMesureEauxSurface',\n",
    "                                       'CodeNatureStationMesureEauxSurface',\n",
    "                                       'NomCoursdEau',\n",
    "                                       'CdTronconHydrographique',\n",
    "                                       'CdCoursdEau',\n",
    "                                       'CdBassinDCE',\n",
    "                                       'NomEuBassinDCE',\n",
    "                                       'CdEuSsBassinDCEAdmin',\n",
    "                                       'NomMasseDEau',\n",
    "                                       'CdMasseDEau',\n",
    "                                       'LocPreciseStationMesureEauxSurface',\n",
    "                                       'LbRegion',\n",
    "                                       'CodeRegion',\n",
    "                                       'CodeCommune',\n",
    "                                       'LbCommune',\n",
    "                                       'LbDepartement',\n",
    "                                       'CodeDepartement',\n",
    "                                       ])\n",
    "\n",
    "df_stations = df_stations[df_stations['PremierMoisAnneeEtiage'].isnull()]"
   ]
  },
  {
   "cell_type": "markdown",
   "id": "e3e9cb3c-d1cb-4ac8-855b-5eb8e97fa46c",
   "metadata": {},
   "source": [
    "Pour toutes les donnees qui n'ont pas de valeurs nulles:\n",
    "\n",
    "| Index | Nom                                   | Bool  |\n",
    "|-------|---------------------------------------|-------|\n",
    "| 0     | CdStationMesureEauxSurface            | False |\n",
    "| 1     | LbStationMesureEauxSurface            | False |\n",
    "| 2     | CodeTypEthStationMesureEauxSurface    | False |\n",
    "| 3     | CoordXStationMesureEauxSurface        | False |\n",
    "| 4     | CoordYStationMesureEauxSurface        | False |\n",
    "| 5     | CdProjStationMesureEauxSurface        | False |\n",
    "| 6     | LibelleProjection                     | False |\n",
    "| 7     | LibelleTypEthStationMesureEauxSurface | False |\n",
    "| 8     | AltitudePointCaracteritisque          | False |\n",
    "| 9     | DateCreationStationMesureEauxSurface  | False |\n",
    "| 10    | DateMAJInfosStationMesureEauxSurface  | False |\n",
    "\n",
    "- <ins>CdStationMesureEauxSurface</ins>: Code pour identifier une station. **Obligatoire a garder.**\n",
    "- <ins>LbStationMesureEauxSurface</ins>: Utile pour faciliter la visualisation des donnees et la localisation de la Station. **A garder**\n",
    "- <ins>CodeTypEthStationMesureEauxSurface</ins>: Nature (cours d'eau ou plan d'eau) de l'entité hydrographique sur laquelle la station de mesure est localisée. **Pour l'analyse actuelle, n'a pas de sens. A supprimer**\n",
    "- <ins>CoordXStationMesureEauxSurface</ins> et <ins>CoordYStationMesureEauxSurface</ins>: **Obligatoire pour determiner les hydroecoregions par jointure**\n",
    "- <ins>CdProjStationMesureEauxSurface</ins>: Uniquement des valeurs 26 (\"Lambert 93\"). N'apporte pas d'information. **A supprimer**\n",
    "- <ins>LibelleProjection</ins>: Comme la colonne precedente, ne contient que les valeurs \"'RGF93 / Lambert 93'\". **A supprimer**\n",
    "- <ins>LibelleTypEthStationMesureEauxSurface</ins>: Permet de connaitre la position d'une sation suivant deux valeurs: sur un cours d'eau ou sur un plan d'eau. **Pour notre analyse, nous n'allons pas selectionner ces valeurs\". **A supprimer**\n",
    "- <ins>AltitudePointCaracteritisque</ins>: Altitude de la sation. Peut avoir un impact sur les resultats d'analyse. **A garder pour le moment**\n",
    "- <ins>DateCreationStationMesureEauxSurface</ins>: Date a laquelle la station a ete creee. **Ne permet pas de donner d'indication pour permettre une analyse.**\n",
    "- <ins>DateMAJInfosStationMesureEauxSurface</ins>: Comme pour la colonne precedente. **A supprimer.**"
   ]
  },
  {
   "cell_type": "code",
   "execution_count": null,
   "id": "e71e90f6-7179-4396-804c-533d5febff20",
   "metadata": {},
   "outputs": [],
   "source": [
    "#df_stations['AltitudePointCaracteritisque'].unique()"
   ]
  },
  {
   "cell_type": "code",
   "execution_count": null,
   "id": "45efc749-884d-47f8-97bb-a0cedcc78597",
   "metadata": {},
   "outputs": [],
   "source": [
    "# Suppression des valeurs qui ne sont pas utiles pour l'analyse.\n",
    "df_stations = df_stations.drop(columns=['CdProjStationMesureEauxSurface',\n",
    "                                        'LibelleProjection',\n",
    "                                        'LibelleTypEthStationMesureEauxSurface',\n",
    "                                        'DateCreationStationMesureEauxSurface',\n",
    "                                        'DateMAJInfosStationMesureEauxSurface'\n",
    "                                       ])"
   ]
  },
  {
   "cell_type": "code",
   "execution_count": null,
   "id": "6d0e6361-2133-4ac8-8815-7915005fafee",
   "metadata": {},
   "outputs": [],
   "source": [
    "df_stations.columns"
   ]
  },
  {
   "cell_type": "markdown",
   "id": "ab043ff4-37f6-4000-9816-134d3d7cd8a1",
   "metadata": {
    "jp-MarkdownHeadingCollapsed": true
   },
   "source": [
    "## Afficher les stations sur une carte pour les separer en hydroecoregions\n",
    "\n",
    "Permet de visuellement se representer les stations dans chaque hydroecoregions et de modifier le dataset pour y ajouter le code et le nom de chaque hydroeco"
   ]
  },
  {
   "cell_type": "code",
   "execution_count": null,
   "id": "0e5a3603-1fab-4b5f-964a-12b8e95c445c",
   "metadata": {},
   "outputs": [],
   "source": [
    "# Définir la projection Lambert 93\n",
    "crs_lambert = 'PROJCS[\"RGF_1993_Lambert_93\",GEOGCS[\"GCS_RGF_1993\",DATUM[\"D_RGF_1993\",SPHEROID[\"GRS_1980\",6378137.0,298.257222101]],PRIMEM[\"Greenwich\",0.0],UNIT[\"Degree\",0.0174532925199433]],PROJECTION[\"Lambert_Conformal_Conic\"],PARAMETER[\"False_Easting\",700000.0],PARAMETER[\"False_Northing\",6600000.0],PARAMETER[\"Central_Meridian\",3.0],PARAMETER[\"Standard_Parallel_1\",49.0],PARAMETER[\"Standard_Parallel_2\",44.0],PARAMETER[\"Latitude_Of_Origin\",46.5],UNIT[\"Meter\",1.0]]'\n",
    "\n",
    "# Colonnes des coordonnées X et Y\n",
    "x_col = 'CoordXStationMesureEauxSurface'\n",
    "y_col = 'CoordYStationMesureEauxSurface'\n",
    "\n",
    "\n",
    "gdf_stations = gpd.GeoDataFrame(\n",
    "    df_stations,\n",
    "    crs=crs_lambert,\n",
    "    geometry=gpd.GeoSeries(df_stations.apply(lambda row: geom.Point(row[x_col], row[y_col]), axis=1))\n",
    ")\n",
    "\n",
    "her = gpd.read_file(\"./donnees/Hydroecoregions/Hydroecoregion1.shp\")\n",
    "\n",
    "shp_hydroecoregions = her.to_crs(crs_lambert)\n",
    "\n",
    "#Permet de faire un df en associant une station avec son hydroecoregion\n",
    "stations_her = gpd.sjoin(gdf_stations, shp_hydroecoregions, predicate='within').to_crs(crs_lambert)\n",
    "\n",
    "fig, ax = plt.subplots(figsize=(10, 10))\n",
    "\n",
    "shp_hydroecoregions.plot(ax=ax, color='lightblue', edgecolor='black', alpha=0.5, label='Hydroécorégions')\n",
    "\n",
    "#station_her.plot(ax=ax, marker='o', color='#ca4553', markersize=0.2, label='Stations de mesure')\n",
    "stations_her.plot(column='NomHER1',markersize=1, cmap='twilight', legend=True, ax=ax)\n",
    "\n",
    "#station_her.head()\n",
    "\n",
    "# Ajouter une légende et un titre\n",
    "plt.title(\"Carte des stations de mesure en France avec hydroécorégions et frontières\")\n",
    "plt.legend()\n",
    "\n",
    "# Afficher la carte\n",
    "plt.show()"
   ]
  },
  {
   "cell_type": "code",
   "execution_count": null,
   "id": "b9e183eb-8c13-43af-9788-e413cecbd2f0",
   "metadata": {},
   "outputs": [],
   "source": [
    "#stations_her.loc[stations_her['NomHER1'] == 'ALSACE']\n",
    "#stations_her['NomHER1'].unique()"
   ]
  },
  {
   "cell_type": "code",
   "execution_count": null,
   "id": "230698e8-6500-4599-9eab-f6af28b0dd3c",
   "metadata": {},
   "outputs": [],
   "source": [
    "#stations_her['CdMasseDEau'].value_counts()\n",
    "#stations_her['CdMasseDEau'].count()\n",
    "len(stations_her.columns)\n",
    "stations_her.columns"
   ]
  },
  {
   "cell_type": "code",
   "execution_count": null,
   "id": "03dba6f7-55fb-4e4c-957e-f1183f9bcbe0",
   "metadata": {},
   "outputs": [],
   "source": [
    "df_hb.head()\n",
    "df_hb['CdStationMesureEauxSurface'].value_counts().sort_index()\n",
    "df_hb.dtypes\n",
    "#df_hb['DateDebutOperationPrelBio'].head()"
   ]
  },
  {
   "cell_type": "code",
   "execution_count": null,
   "id": "c959b790-143d-4529-9279-137b705512c1",
   "metadata": {},
   "outputs": [],
   "source": [
    "# df_hb.loc[df_hb['CdStationMesureEauxSurface'] == 2000990].count()\n",
    "# cpt_hb_stations = df_hb['LbStationMesureEauxSurface'].value_counts()\n",
    "\n",
    "# cpt_hb_stations = cpt_hb_stations.reset_index()\n",
    "# cpt_hb_stations\n",
    "# fig_cpt = px.line(cpt_hb_stations, x= y='count')\n",
    "# fig_cpt.show()\n"
   ]
  },
  {
   "cell_type": "markdown",
   "id": "ec4bb425-3809-4e7a-ad51-7d4e2a0240ee",
   "metadata": {
    "jp-MarkdownHeadingCollapsed": true
   },
   "source": [
    "## Analyser les colonnes pour les selectionner\n",
    "Pour selectionner les annees les plus interessantes a utiliser, nous allons ploter le nombre de donnees en fonction des annees. Les annees qui ont le plus de valeurs sont des annees qui permettent d'avoir de meilleures resultats pour les analyses et permettent de reduire le probleme pour 3 ou 4 annees. "
   ]
  },
  {
   "cell_type": "code",
   "execution_count": null,
   "id": "0809aff8-7d68-424e-8d3b-740b597d61a5",
   "metadata": {},
   "outputs": [],
   "source": [
    "ser_dates = pd.to_datetime(df_hb['DateDebutOperationPrelBio']).dt.year\n",
    "\n",
    "ser_dates = ser_dates.value_counts().reset_index()\n",
    "\n",
    "ser_dates = ser_dates.sort_values('DateDebutOperationPrelBio')\n",
    "\n",
    "fig = px.bar(ser_dates, x='DateDebutOperationPrelBio', y='count',\n",
    "             title='Nombre de valeurs par année',\n",
    "             labels={'Annee': 'Année', 'Nombre': 'Nombre de valeurs'},\n",
    "             template='plotly_white')\n",
    "\n",
    "fig.update_xaxes(type='category')\n",
    "fig.update_layout(xaxis_title='Année',\n",
    "                  yaxis_title='Nombre de valeurs',\n",
    "                  bargap=0.2)\n",
    "\n",
    "fig.show(renderer='browser')"
   ]
  },
  {
   "cell_type": "markdown",
   "id": "e5390f69-49d0-49eb-96da-855ac674e647",
   "metadata": {},
   "source": [
    "Ensuite on peut choisir de recuperer les valeurs par saison pour pouvoir les comparer entre elles. Nous n'allons que selectionner les annees qui ont le plus de valeurs. C'est a dire des annees plus grandes que 2015. Pour limiter le dataset nous allons nous focus sur les annees entre 2015 et 2018 pour commencer."
   ]
  },
  {
   "cell_type": "code",
   "execution_count": null,
   "id": "9c3b0058-043c-4d93-8d77-e66500a07df8",
   "metadata": {},
   "outputs": [],
   "source": []
  },
  {
   "cell_type": "code",
   "execution_count": null,
   "id": "4204d366-420e-4078-b53e-6b7917911cee",
   "metadata": {},
   "outputs": [],
   "source": [
    "# Convertir la colonne de date en datetime\n",
    "df_saison = df_hb\n",
    "df_saison['DateDebutOperationPrelBio'] = pd.to_datetime(df_hb['DateDebutOperationPrelBio'])\n",
    "\n",
    "# Fonction pour déterminer la saison\n",
    "def get_season(date):\n",
    "    month = date.month\n",
    "    if month in [12, 1, 2]:\n",
    "        return 'Hiver'\n",
    "    elif month in [3, 4, 5]:\n",
    "        return 'Printemps'\n",
    "    elif month in [6, 7, 8]:\n",
    "        return 'Ete'\n",
    "    else:\n",
    "        return 'Automne'\n",
    "\n",
    "# Ajouter une colonne 'Saison'\n",
    "df_saison['Saison'] = df_saison['DateDebutOperationPrelBio'].apply(get_season)\n",
    "df_saison['Saison']"
   ]
  },
  {
   "cell_type": "code",
   "execution_count": null,
   "id": "64ce2260-e728-45c1-bf8e-48929488ce30",
   "metadata": {},
   "outputs": [],
   "source": []
  },
  {
   "cell_type": "markdown",
   "id": "b86dce9e-e7d2-4ab6-a21f-59966ccb8df6",
   "metadata": {
    "jp-MarkdownHeadingCollapsed": true
   },
   "source": [
    "## Clustering des sations\n",
    "\n",
    "Le but etant de connaitres les stations en bon etat et celles en mauvais etat. La selection se fait toujours par hydroecorgions"
   ]
  },
  {
   "cell_type": "code",
   "execution_count": null,
   "id": "b15d1e04-28cf-4b8b-b8ac-83f15ed888b9",
   "metadata": {},
   "outputs": [],
   "source": [
    "#df_tmp = df_stations['CdStationMesureEauxSurface'] == 00990\n",
    "df_stations['CdStationMesureEauxSurface'].unique()"
   ]
  },
  {
   "cell_type": "code",
   "execution_count": null,
   "id": "2551bd19-0b0e-4e4d-9dd8-cd0c3879ed7c",
   "metadata": {},
   "outputs": [],
   "source": [
    "# Création du masque booléen\n",
    "masque = df_stations['CdStationMesureEauxSurface'].isin(df_hb['CdStationMesureEauxSurface'])\n",
    "\n",
    "# Filtrage du DataFrame\n",
    "resultat = df_stations[masque]\n",
    "resultat"
   ]
  },
  {
   "cell_type": "code",
   "execution_count": null,
   "id": "8bf9f917-ddea-405b-9f6c-8044895a9cd7",
   "metadata": {},
   "outputs": [],
   "source": [
    "# Fonction pour extraire les 6 derniers chiffres\n",
    "def last_six_digits(x):\n",
    "    return str(x).zfill(6)[-6:]\n",
    "\n",
    "# Application de la fonction aux deux DataFrames\n",
    "df_hb['LastSix'] = df_hb['CdStationMesureEauxSurface'].apply(last_six_digits)\n",
    "df_stations['LastSix'] = df_stations['CdStationMesureEauxSurface'].apply(last_six_digits)\n",
    "\n",
    "#Recuperer hydroecoregion 20 (Depots argilo sableux):\n",
    "stations_her['LastSix'] = stations_her['CdStationMesureEauxSurface'].apply(last_six_digits)\n",
    "stations_H20 = stations_her[stations_her['CdHER1'] == 20]\n",
    "\n",
    "# Création du masque pour la comparaison\n",
    "mask = df_hb['LastSix'].isin(stations_H20['LastSix'])\n",
    "\n",
    "# Pour recuperer toutes les valeurs uniquement dans l'hydroecoregion n20\n",
    "df_hb_HER20 = df_hb[mask]\n",
    "df_hb_HER20 = pd.DataFrame(df_hb_HER20)\n",
    "\n",
    "df_hb_HER20.nunique()"
   ]
  },
  {
   "cell_type": "code",
   "execution_count": null,
   "id": "d26e40d2-6a54-4590-b22f-6a362f154b1c",
   "metadata": {},
   "outputs": [],
   "source": [
    "df_hb_HER20.shape"
   ]
  },
  {
   "cell_type": "code",
   "execution_count": null,
   "id": "9b6e6bee-2797-4233-8b15-edcfd322da25",
   "metadata": {},
   "outputs": [],
   "source": [
    "# Supposons que votre DataFrame s'appelle 'df'\n",
    "# Grouper par le code de la station (les 6 derniers chiffres de la colonne 'code_station')\n",
    "grouped = df_hb_HER20.groupby(df_hb_HER20['LastSix'].astype(str))\n",
    "\n",
    "# Compter le nombre de relevés par station\n",
    "station_counts_HER20 = grouped.size()\n",
    "\n",
    "\n",
    "# Créer un graphique à barres\n",
    "# plt.figure(figsize=(12, 6))\n",
    "# station_counts.plot(kind='bar')\n",
    "# plt.title('Nombre de relevés par station')\n",
    "# plt.xlabel('Code de station')\n",
    "# plt.ylabel('Nombre de relevés')\n",
    "# plt.xticks(rotation=45, ha='right')\n",
    "# plt.tight_layout()\n",
    "# plt.show()\n",
    "\n",
    "\n",
    "fig = px.bar(station_counts_HER20,\n",
    "             title='Nombre de releve par station pour l\\'hydroecoregion 20',\n",
    "             labels={'Releve': 'Stations', 'Nombre': 'Nombre de releve'},\n",
    "             template='plotly_white')\n",
    "\n",
    "fig.update_layout(xaxis_title='Stations',\n",
    "                  yaxis_title='Nombre de valeurs',\n",
    "                  bargap=0.2)\n",
    "\n",
    "fig.show(renderer='browser')"
   ]
  },
  {
   "cell_type": "code",
   "execution_count": null,
   "id": "1937b157-d984-4219-8106-ec80101e89da",
   "metadata": {},
   "outputs": [],
   "source": [
    "df_hb_HER20['ResIndiceResultatBiologique']"
   ]
  },
  {
   "cell_type": "code",
   "execution_count": null,
   "id": "a4ecd186-2bcc-4021-bc30-3cc4839583e3",
   "metadata": {},
   "outputs": [],
   "source": [
    "# Fonction pour classifier l'état écologique\n",
    "def classify_state(value):\n",
    "    if value > 0.7003:\n",
    "        return 'Très bon état'\n",
    "    elif 0.5164 < value <= 0.7003:\n",
    "        return 'Bon état'\n",
    "    elif 0.3443 < value <= 0.5164:\n",
    "        return 'État moyen'\n",
    "    elif 0.1721 < value <= 0.3443:\n",
    "        return 'État médiocre'\n",
    "    else:\n",
    "        return 'Mauvais état'\n",
    "\n",
    "# Définir une séquence de couleurs personnalisée\n",
    "color_sequence = ['#1e8449', '#21618c', '#9c640c', '#943126', '#633974']\n",
    "\n",
    "# Appliquer la classification\n",
    "df_hb_HER20['EtatEcologique'] = df_hb_HER20['ResIndiceResultatBiologique'].apply(classify_state)\n",
    "\n",
    "# Grouper par les 6 derniers chiffres du code station et l'état écologique\n",
    "grouped = df_hb_HER20.groupby(['LastSix', 'EtatEcologique'])\n",
    "\n",
    "# Compter le nombre de relevés dans chaque groupe\n",
    "counts = grouped.size().reset_index(name='Count')\n",
    "\n",
    "# Créer un graphique à barres empilées avec Plotly\n",
    "fig = px.bar(counts, \n",
    "             x='LastSix', \n",
    "             y='Count', \n",
    "             color='EtatEcologique',\n",
    "             title='Distribution des états écologiques par station pour l\\'hydroécorégion 20',\n",
    "             labels={'LastSix': 'Code Station (6 derniers chiffres)', \n",
    "                     'Count': 'Nombre de relevés'},\n",
    "             category_orders={'EtatEcologique': ['Très bon état', 'Bon état', 'État moyen', 'État médiocre', 'Mauvais état']},\n",
    "             color_discrete_sequence=['#00FF00', '#7FFF00', '#FFFF00', '#FF7F00', '#FF0000'])\n",
    "\n",
    "# Mise en page\n",
    "fig.update_layout(barmode='stack', \n",
    "                  height=600,\n",
    "                  xaxis_title='Code Station (6 derniers chiffres)',\n",
    "                  yaxis_title='Nombre de relevés')\n",
    "\n",
    "# Rotation des labels de l'axe x pour une meilleure lisibilité\n",
    "fig.update_xaxes(tickangle=45)\n",
    "\n",
    "# Afficher le graphique\n",
    "fig.show(renderer='browser')\n",
    "\n",
    "# Afficher un résumé des données\n",
    "summary = counts.groupby('EtatEcologique')['Count'].sum().sort_values(ascending=False)\n",
    "print(\"Résumé des états écologiques pour l'hydroécorégion 20:\")\n",
    "print(summary)\n",
    "\n",
    "# Calculer le pourcentage pour chaque état\n",
    "total = summary.sum()\n",
    "percentages = (summary / total * 100).round(2)\n",
    "print(\"\\nPourcentages des états écologiques:\")\n",
    "print(percentages)\n"
   ]
  },
  {
   "cell_type": "code",
   "execution_count": null,
   "id": "49299fcc-23e1-468c-9300-5444f124abbd",
   "metadata": {},
   "outputs": [],
   "source": []
  },
  {
   "cell_type": "code",
   "execution_count": null,
   "id": "515aef48-7d65-452b-b1a1-d3d9d59a3007",
   "metadata": {},
   "outputs": [],
   "source": [
    "# Valeurs des proportions pour chacunes des satitions du HER20:\n",
    "proportions"
   ]
  },
  {
   "cell_type": "code",
   "execution_count": null,
   "id": "3522a050-4dbd-4992-a604-8957cf33991b",
   "metadata": {},
   "outputs": [],
   "source": [
    "proportions_reset = proportions.reset_index()\n",
    "# Maintenant, fusionnons les DataFrames\n",
    "df_hb_HER20 = df_hb_HER20.merge(proportions_reset[['LastSix', 'Cluster', 'Qualite']], \n",
    "                                 on='LastSix', \n",
    "                                 how='left')\n"
   ]
  },
  {
   "cell_type": "code",
   "execution_count": null,
   "id": "ea0ba53a-a450-48d6-a790-e1873e157c13",
   "metadata": {},
   "outputs": [],
   "source": [
    "# Vérifiez le résultat\n",
    "#stations_her['NomHER1'].value_counts().shape\n",
    "\n",
    "df_hb['Qualite'].unique()"
   ]
  },
  {
   "cell_type": "code",
   "execution_count": null,
   "id": "0f1ef5aa-eebe-413b-a23d-47d4b00f6581",
   "metadata": {},
   "outputs": [],
   "source": [
    "df_hb_HER20"
   ]
  },
  {
   "cell_type": "code",
   "execution_count": null,
   "id": "ade365a1-5c72-4e97-bc2d-35db7236c98c",
   "metadata": {},
   "outputs": [],
   "source": [
    "# Fonction pour extraire les 6 derniers chiffres\n",
    "def last_six_digits(x):\n",
    "    return str(x).zfill(6)[-6:]\n",
    "\n",
    "# Fonction pour classifier l'état écologique\n",
    "def classify_state(value, thresholds):\n",
    "    if value > thresholds[0]:\n",
    "        return 'Très bon état'\n",
    "    elif thresholds[1] < value <= thresholds[0]:\n",
    "        return 'Bon état'\n",
    "    elif thresholds[2] < value <= thresholds[1]:\n",
    "        return 'État moyen'\n",
    "    elif thresholds[3] < value <= thresholds[2]:\n",
    "        return 'État médiocre'\n",
    "    else:\n",
    "        return 'Mauvais état'\n",
    "\n",
    "# Fonction pour traiter chaque HER (permet de renvoyer un plot pour afficher les donnees)\n",
    "def process_her(df_hb, stations_her, her_number, thresholds):\n",
    "    #Desactiver l'erreur a cause de la copie \"A value is trying to be set on a copy of a slice from a DataFrame.\"\n",
    "    original_setting = pd.options.mode.chained_assignment\n",
    "    pd.options.mode.chained_assignment = None\n",
    "\n",
    "    try:\n",
    "        # Filtrer les stations pour le HER spécifique\n",
    "        stations_HER = stations_her[stations_her['CdHER1'] == her_number]\n",
    "        \n",
    "        # Créer le masque pour la comparaison\n",
    "        mask = df_hb['LastSix'].isin(stations_HER['LastSix'])\n",
    "        \n",
    "        # Filtrer df_hb pour le HER spécifique\n",
    "        df_hb_HER = df_hb[mask]\n",
    "        \n",
    "        # Appliquer la classification\n",
    "        #df_hb_HER['EtatEcologique'] = df_hb_HER['ResIndiceResultatBiologique'].apply(lambda x: classify_state(x, thresholds))\n",
    "        # Utilisez :\n",
    "        df_hb_HER.loc[:, 'EtatEcologique'] = df_hb_HER['ResIndiceResultatBiologique'].apply(lambda x: classify_state(x, thresholds))\n",
    "        \n",
    "        # Calculer les proportions pour chaque station\n",
    "        proportions = df_hb_HER.groupby('LastSix')['EtatEcologique'].value_counts(normalize=True).unstack(fill_value=0)\n",
    "        \n",
    "        # Assurer que toutes les colonnes existent\n",
    "        all_states = ['Très bon état', 'Bon état', 'État moyen', 'État médiocre', 'Mauvais état']\n",
    "        for state in all_states:\n",
    "            if state not in proportions.columns:\n",
    "                proportions[state] = 0\n",
    "        \n",
    "        # Appliquer K-means\n",
    "        kmeans = KMeans(n_clusters=2, random_state=42)\n",
    "        proportions['Cluster'] = kmeans.fit_predict(proportions[all_states])\n",
    "        \n",
    "        # Déterminer quel cluster représente les \"bonnes\" stations\n",
    "        cluster_means = proportions.groupby('Cluster')[all_states].mean()\n",
    "        good_cluster = 0 if (cluster_means.loc[0, 'Très bon état'] + cluster_means.loc[0, 'Bon état']) > (cluster_means.loc[1, 'Très bon état'] + cluster_means.loc[1, 'Bon état']) else 1\n",
    "        \n",
    "        # Étiqueter les clusters\n",
    "        proportions['Qualite'] = proportions['Cluster'].map({good_cluster: 'Plutôt bonne', 1-good_cluster: 'Plutôt mauvaise'})\n",
    "        \n",
    "        # Fusionner les résultats avec df_hb_HER\n",
    "        proportions_reset = proportions.reset_index()\n",
    "        df_hb_HER = df_hb_HER.merge(proportions_reset[['LastSix', 'Cluster', 'Qualite']], on='LastSix', how='left')\n",
    "        \n",
    "        # Visualiser la distribution moyenne des états écologiques par cluster\n",
    "        cluster_means = proportions.groupby('Qualite')[all_states].mean().reset_index()\n",
    "        cluster_means_melted = cluster_means.melt(id_vars=['Qualite'], var_name='EtatEcologique', value_name='Proportion')\n",
    "\n",
    "        fig_dist = px.bar(cluster_means_melted,\n",
    "                          x='Qualite', \n",
    "                          y='Proportion', \n",
    "                          color='EtatEcologique',\n",
    "                          title=f'Distribution moyenne des états écologiques par cluster pour HER {her_number}',\n",
    "                          labels={'Proportion': 'Proportion moyenne'},\n",
    "                          color_discrete_sequence=['#00FF00', '#7FFF00', '#FFFF00', '#FF7F00', '#FF0000'])\n",
    "        fig_dist.update_layout(barmode='stack')\n",
    "\n",
    "        return df_hb_HER, proportions, fig_dist\n",
    "        \n",
    "    finally:\n",
    "        # Pour reactiver le parametre dans tous les cas.\n",
    "        pd.options.mode.chained_assignment = original_setting\n",
    "\n",
    "# Appliquer last_six_digits aux DataFrames principaux\n",
    "df_hb['LastSix'] = df_hb['CdStationMesureEauxSurface'].apply(last_six_digits)\n",
    "df_stations['LastSix'] = df_stations['CdStationMesureEauxSurface'].apply(last_six_digits)\n",
    "stations_her['LastSix'] = stations_her['CdStationMesureEauxSurface'].apply(last_six_digits)\n",
    "\n",
    "# Dictionnaire des seuils pour chaque HER (uniquement pour le cas general pour le moment)\n",
    "her_thresholds = {\n",
    "    2: [0.7078, 0.457, 0.3047, 0.1523],\n",
    "    7: [0.6916, 0.4362, 0.2908, 0.1454],\n",
    "    11: [0.7003, 0.5252, 0.3501, 0.1751],\n",
    "    13: [0.7003, 0.5252, 0.3501, 0.1751],\n",
    "    15: [0.7003, 0.5164, 0.3443, 0.1721],\n",
    "    19: [0.7003, 0.5252, 0.3501, 0.1751],\n",
    "    20: [0.7003, 0.5164, 0.3443, 0.1721],\n",
    "    9: [0.7003, 0.5164, 0.3443, 0.1721]\n",
    "}\n",
    "\n",
    "# Initialiser le dictionnaire pour stocker les résultats\n",
    "results = {}\n",
    "\n",
    "# Traiter chaque HER\n",
    "for her_number, thresholds in her_thresholds.items():\n",
    "    df_hb_HER, proportions, fig_dist = process_her(df_hb, stations_her, her_number, thresholds)\n",
    "    results[her_number] = {\n",
    "        'df': df_hb_HER,\n",
    "        'proportions': proportions,\n",
    "        'fig_dist': fig_dist\n",
    "    }\n",
    "\n",
    "    all_states = ['Très bon état', 'Bon état', 'État moyen', 'État médiocre', 'Mauvais état']\n",
    "    \n",
    "    # Visualisations pour chaque HER\n",
    "    fig_scatter = px.scatter(proportions.reset_index(), \n",
    "                     x='LastSix', \n",
    "                     y=['Très bon état', 'Bon état', 'État moyen', 'État médiocre', 'Mauvais état'],\n",
    "                     color='Qualite',\n",
    "                     title=f'Clustering des stations par qualité pour HER {her_number}',\n",
    "                     labels={'LastSix': 'Code Station (6 derniers chiffres)', \n",
    "                             'value': 'Proportion', \n",
    "                             'variable': 'État écologique'},\n",
    "                     color_discrete_map={'Plutôt bonne': 'green', 'Plutôt mauvaise': 'red'})\n",
    "    \n",
    "    fig_scatter.show(renderer='browser')\n",
    "    fig_dist.show(renderer='browser')\n",
    "    \n",
    "    # Afficher un résumé\n",
    "    print(f\"\\nRésumé pour HER {her_number}:\")\n",
    "    print(proportions['Qualite'].value_counts())\n",
    "    print(\"\\nMoyenne des proportions par cluster:\")\n",
    "    print(proportions.groupby('Qualite')[all_states].mean())\n",
    "\n",
    "# Vous pouvez maintenant accéder aux résultats pour chaque HER comme ceci:\n",
    "# df_hb_HER20 = results[20]['df']\n",
    "# proportions_HER20 = results[20]['proportions']\n"
   ]
  },
  {
   "cell_type": "code",
   "execution_count": null,
   "id": "45e6522d-190d-4c8a-961c-022543b26947",
   "metadata": {},
   "outputs": [],
   "source": [
    "proportions.reset_index()"
   ]
  },
  {
   "cell_type": "code",
   "execution_count": null,
   "id": "94626c86-9c9f-4a7f-9ab3-38217ea254a6",
   "metadata": {
    "scrolled": true
   },
   "outputs": [],
   "source": [
    "results[9]['df']"
   ]
  },
  {
   "cell_type": "code",
   "execution_count": null,
   "id": "d6862968-ba0a-4473-822a-35dbce380c1b",
   "metadata": {},
   "outputs": [],
   "source": [
    "for dftosave in her_thresholds:\n",
    "    df_hb_HER = results[dftosave]['df']\n",
    "    df_hb_HER.to_csv(f'./donnees/resultats_releves_H{dftosave}_station_bonne-mauvaise.csv')"
   ]
  },
  {
   "cell_type": "code",
   "execution_count": null,
   "id": "03966c1e-df86-4c31-9040-8b06b592d11f",
   "metadata": {},
   "outputs": [],
   "source": [
    "df_hb_HER20.to_csv('./donnees/resultats_releves_H20_station_bonne-mauvaise.csv')"
   ]
  },
  {
   "cell_type": "code",
   "execution_count": null,
   "id": "a5137a1a-0098-47f3-b5ec-4c1536378982",
   "metadata": {},
   "outputs": [],
   "source": [
    "filtered_dataset = dataset[~dataset['station_number'].isin(stations_to_exclude['station_number'])]"
   ]
  }
 ],
 "metadata": {
  "kernelspec": {
   "display_name": "myenv",
   "language": "python",
   "name": "myenv"
  },
  "language_info": {
   "codemirror_mode": {
    "name": "ipython",
    "version": 3
   },
   "file_extension": ".py",
   "mimetype": "text/x-python",
   "name": "python",
   "nbconvert_exporter": "python",
   "pygments_lexer": "ipython3",
   "version": "3.12.7"
  }
 },
 "nbformat": 4,
 "nbformat_minor": 5
}
